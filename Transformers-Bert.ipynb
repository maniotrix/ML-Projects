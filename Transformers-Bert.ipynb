{
 "cells": [
  {
   "cell_type": "code",
   "execution_count": 4,
   "id": "763623d6",
   "metadata": {},
   "outputs": [
    {
     "name": "stdout",
     "output_type": "stream",
     "text": [
      "Requirement already satisfied: typing_extensions==4.4.0 in c:\\users\\abhil\\anaconda3\\lib\\site-packages (4.4.0)\n"
     ]
    }
   ],
   "source": [
    "!pip install typing_extensions==4.4.0\n",
    "import typing_extensions"
   ]
  },
  {
   "cell_type": "code",
   "execution_count": 6,
   "id": "e9d562c6",
   "metadata": {},
   "outputs": [
    {
     "name": "stdout",
     "output_type": "stream",
     "text": [
      "Requirement already satisfied: Cython in c:\\users\\abhil\\anaconda3\\lib\\site-packages (0.29.24)\n"
     ]
    }
   ],
   "source": [
    "!pip install Cython"
   ]
  },
  {
   "cell_type": "code",
   "execution_count": 1,
   "id": "2b9992b7",
   "metadata": {},
   "outputs": [],
   "source": [
    "import torch "
   ]
  },
  {
   "cell_type": "code",
   "execution_count": 2,
   "id": "00ce0d38",
   "metadata": {
    "scrolled": true
   },
   "outputs": [],
   "source": [
    "from transformers import pipeline\n",
    "import re"
   ]
  },
  {
   "cell_type": "code",
   "execution_count": 3,
   "id": "8d0ea520",
   "metadata": {},
   "outputs": [
    {
     "name": "stderr",
     "output_type": "stream",
     "text": [
      "Some weights of the model checkpoint at bert-base-uncased were not used when initializing BertForMaskedLM: ['bert.pooler.dense.weight', 'cls.seq_relationship.weight', 'cls.seq_relationship.bias', 'bert.pooler.dense.bias']\n",
      "- This IS expected if you are initializing BertForMaskedLM from the checkpoint of a model trained on another task or with another architecture (e.g. initializing a BertForSequenceClassification model from a BertForPreTraining model).\n",
      "- This IS NOT expected if you are initializing BertForMaskedLM from the checkpoint of a model that you expect to be exactly identical (initializing a BertForSequenceClassification model from a BertForSequenceClassification model).\n"
     ]
    }
   ],
   "source": [
    "unmasker = pipeline('fill-mask', model='bert-base-uncased')"
   ]
  },
  {
   "cell_type": "code",
   "execution_count": 59,
   "id": "0e96216f",
   "metadata": {},
   "outputs": [],
   "source": [
    "def find_all_string_occurence(sub_str, input_str):\n",
    "    res = [i.start() for i in re.finditer(sub_str, input_str)]\n",
    "    return res\n",
    "\n",
    "def multi_mask_unmasker(unmasker, data):\n",
    "    mask_string = \"MASK\"\n",
    "    masks_count = len(find_all_string_occurence(mask_string, data))\n",
    "    result = \"\"\n",
    "    if masks_count > 1 :\n",
    "        result = unmasker(data)[0][0]['sequence']\n",
    "        #print(result)\n",
    "        while(masks_count > 0):\n",
    "            if masks_count > 1 :\n",
    "                result = unmasker(result)[0][0]['sequence']\n",
    "            else:\n",
    "                result = unmasker(result)[0]['sequence']\n",
    "            masks_count = len(find_all_string_occurence(mask_string, result))\n",
    "            #print(masks_count)\n",
    "    else:\n",
    "        result = unmasker(data)[0]['sequence']\n",
    "    return result"
   ]
  },
  {
   "cell_type": "code",
   "execution_count": 60,
   "id": "293a8f49",
   "metadata": {},
   "outputs": [],
   "source": [
    "text = \"He was always [MASK], but he still could not [MASK] the [MASK].\""
   ]
  },
  {
   "cell_type": "code",
   "execution_count": 61,
   "id": "ddd4c603",
   "metadata": {
    "scrolled": false
   },
   "outputs": [
    {
     "data": {
      "text/plain": [
       "'he was always there, but he still could not see the light.'"
      ]
     },
     "execution_count": 61,
     "metadata": {},
     "output_type": "execute_result"
    }
   ],
   "source": [
    "multi_mask_unmasker(unmasker, text)"
   ]
  }
 ],
 "metadata": {
  "kernelspec": {
   "display_name": "Python 3 (ipykernel)",
   "language": "python",
   "name": "python3"
  },
  "language_info": {
   "codemirror_mode": {
    "name": "ipython",
    "version": 3
   },
   "file_extension": ".py",
   "mimetype": "text/x-python",
   "name": "python",
   "nbconvert_exporter": "python",
   "pygments_lexer": "ipython3",
   "version": "3.9.18"
  }
 },
 "nbformat": 4,
 "nbformat_minor": 5
}
